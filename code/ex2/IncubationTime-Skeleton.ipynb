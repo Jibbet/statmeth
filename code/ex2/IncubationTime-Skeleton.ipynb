{
 "cells": [
  {
   "cell_type": "code",
   "execution_count": 1,
   "metadata": {},
   "outputs": [],
   "source": [
    "# imports\n",
    "\n",
    "import numpy as np\n",
    "import pandas as pd\n",
    "import matplotlib.pyplot as plt\n",
    "from sklearn.neighbors import KernelDensity\n",
    "from scipy.stats import gamma"
   ]
  },
  {
   "cell_type": "code",
   "execution_count": 2,
   "metadata": {},
   "outputs": [],
   "source": [
    "# import the csv file\n",
    "data = pd.read_csv('IncPeriodData.csv')"
   ]
  },
  {
   "cell_type": "code",
   "execution_count": 3,
   "metadata": {},
   "outputs": [
    {
     "data": {
      "text/html": [
       "<div>\n",
       "<style scoped>\n",
       "    .dataframe tbody tr th:only-of-type {\n",
       "        vertical-align: middle;\n",
       "    }\n",
       "\n",
       "    .dataframe tbody tr th {\n",
       "        vertical-align: top;\n",
       "    }\n",
       "\n",
       "    .dataframe thead th {\n",
       "        text-align: right;\n",
       "    }\n",
       "</style>\n",
       "<table border=\"1\" class=\"dataframe\">\n",
       "  <thead>\n",
       "    <tr style=\"text-align: right;\">\n",
       "      <th></th>\n",
       "      <th>IncPeriod</th>\n",
       "    </tr>\n",
       "  </thead>\n",
       "  <tbody>\n",
       "    <tr>\n",
       "      <th>0</th>\n",
       "      <td>0.624314</td>\n",
       "    </tr>\n",
       "    <tr>\n",
       "      <th>1</th>\n",
       "      <td>9.814797</td>\n",
       "    </tr>\n",
       "    <tr>\n",
       "      <th>2</th>\n",
       "      <td>4.975259</td>\n",
       "    </tr>\n",
       "    <tr>\n",
       "      <th>3</th>\n",
       "      <td>2.687350</td>\n",
       "    </tr>\n",
       "    <tr>\n",
       "      <th>4</th>\n",
       "      <td>11.322319</td>\n",
       "    </tr>\n",
       "  </tbody>\n",
       "</table>\n",
       "</div>"
      ],
      "text/plain": [
       "   IncPeriod\n",
       "0   0.624314\n",
       "1   9.814797\n",
       "2   4.975259\n",
       "3   2.687350\n",
       "4  11.322319"
      ]
     },
     "execution_count": 3,
     "metadata": {},
     "output_type": "execute_result"
    }
   ],
   "source": [
    "# show head of the csv file\n",
    "data.head()"
   ]
  },
  {
   "cell_type": "code",
   "execution_count": 4,
   "metadata": {},
   "outputs": [],
   "source": [
    "# histogram of data\n",
    "# you can use the pandas method dataframe.hist(bins=nmbr_bins)\n",
    "# specify appropriate number of bins\n",
    "\n"
   ]
  },
  {
   "cell_type": "markdown",
   "metadata": {},
   "source": [
    "# Data Cleaning"
   ]
  },
  {
   "cell_type": "code",
   "execution_count": 5,
   "metadata": {},
   "outputs": [],
   "source": [
    "# drop the lines from the DataFrame that exceed a certain value\n",
    "# see method: dataframe.drop(datataframe[dataframe.column > value].index, inplace=True)\n",
    "\n"
   ]
  },
  {
   "cell_type": "code",
   "execution_count": 6,
   "metadata": {},
   "outputs": [],
   "source": [
    "# check again histogram of data\n",
    "\n"
   ]
  },
  {
   "cell_type": "code",
   "execution_count": 7,
   "metadata": {},
   "outputs": [],
   "source": [
    "# print mean, median, std of sample\n",
    "# use again the pandas functions: dataframe.mean(), ...\n",
    "\n"
   ]
  },
  {
   "cell_type": "markdown",
   "metadata": {},
   "source": [
    "# Kernel Density Estimation"
   ]
  },
  {
   "cell_type": "code",
   "execution_count": 8,
   "metadata": {},
   "outputs": [],
   "source": [
    "# you can use KernelDensity(kernel=kernel, bandwidth=value)\n",
    "# create instance from kernel density estimator, specify kernel and bandwith\n",
    "# see https://scikit-learn.org/stable/modules/generated/sklearn.neighbors.KernelDensity.html#sklearn.neighbors.KernelDensity.sample\n",
    "\n"
   ]
  },
  {
   "cell_type": "code",
   "execution_count": 9,
   "metadata": {},
   "outputs": [],
   "source": [
    "# fit the kernel density estimator: instance.fit([...])\n",
    "# attention: the fit() function wants a shape [nmbr_samples, nmbr_features] array\n",
    "# -- > best reshape your data, e.g. with np.array(data.IncPeriod).reshape(-1,1)\n",
    "\n"
   ]
  },
  {
   "cell_type": "code",
   "execution_count": 10,
   "metadata": {},
   "outputs": [],
   "source": [
    "# plot the kernel density probability distribution function: \n",
    "# instance.score_samples() returns the log-pdf (i.e. you still need to apply np.exp(...))\n",
    "# attention: the score_samples() function also wants a shape [nmbr_samples, nmbr_features] array\n",
    "# -- > best reshape your x-value grid, e.g. with np.array(x).reshape(-1,1) or x = np.linspace(0,max_val)[:, np.newaxis]\n",
    "\n"
   ]
  },
  {
   "cell_type": "code",
   "execution_count": 11,
   "metadata": {},
   "outputs": [],
   "source": [
    "# generate samples from estimated density function:\n",
    "# instance.sample(sample_size) returns a sample of size sample_size\n",
    "# then create new instance of KernelDensity, fit to the sample and plot again the pdf\n",
    "\n"
   ]
  },
  {
   "cell_type": "markdown",
   "metadata": {},
   "source": [
    "# Distribution Folding"
   ]
  },
  {
   "cell_type": "code",
   "execution_count": 12,
   "metadata": {},
   "outputs": [],
   "source": [
    "# define the new probability density function as a function\n",
    "# you probabily want to use the scipy.stats.gamma.pdf(x,a=4) function\n",
    "\n",
    "def folded_pdf(x):\n",
    "    \"\"\"Gets an x-grid and returns the folded probability distribution\n",
    "\n",
    "    Parameters\n",
    "    ----------\n",
    "    x : numpy array of shape (N,1)\n",
    "        The x-grid on which the probability densitiy function is evaluated\n",
    "\n",
    "    Returns\n",
    "    -------\n",
    "    numpy array of shape (N,1)\n",
    "        The resulting, folded pdf\n",
    "    \"\"\"\n",
    "\n",
    "    # the gamma distribution\n",
    "    g = ...\n",
    "    # the pdf of the kernel density estimation\n",
    "    p = ...\n",
    "    # convolve\n",
    "    c = np.convolve(g,p)\n",
    "    # truncate the result for same length with grid\n",
    "    c = c[:len(x)]\n",
    "    \n",
    "    return c"
   ]
  },
  {
   "cell_type": "code",
   "execution_count": 13,
   "metadata": {},
   "outputs": [],
   "source": [
    "# plot the folded pdf\n",
    "\n",
    "x = np.linspace(0,30)[:, np.newaxis]\n",
    "\n",
    "..."
   ]
  }
 ],
 "metadata": {
  "kernelspec": {
   "display_name": "Python 3",
   "language": "python",
   "name": "python3"
  },
  "language_info": {
   "codemirror_mode": {
    "name": "ipython",
    "version": 3
   },
   "file_extension": ".py",
   "mimetype": "text/x-python",
   "name": "python",
   "nbconvert_exporter": "python",
   "pygments_lexer": "ipython3",
   "version": "3.8.2"
  }
 },
 "nbformat": 4,
 "nbformat_minor": 4
}
