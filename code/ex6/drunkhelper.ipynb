{
 "cells": [
  {
   "cell_type": "code",
   "execution_count": 11,
   "metadata": {},
   "outputs": [
    {
     "name": "stdout",
     "output_type": "stream",
     "text": [
      "3.3975779049276813\n",
      "1.894578605061305\n"
     ]
    }
   ],
   "source": [
    "import numpy as np\n",
    "from scipy.stats import t as student\n",
    "\n",
    "sober = np.array([0.45, 0.34, 0.72, 0.60, 0.38, 0.52, 0.44, 0.54])\n",
    "drunk = np.array([0.53, 0.39, 0.69, 0.61, 0.45, 0.63, 0.52, 0.67])\n",
    "\n",
    "diff = drunk - sober\n",
    "\n",
    "m = np.mean(diff)\n",
    "var = np.var(diff, ddof=1)\n",
    "\n",
    "mu_0 = 0\n",
    "n = 8\n",
    "\n",
    "T = (np.sqrt(n)*(m-mu_0))/(np.sqrt(var))\n",
    "a = 0.05\n",
    "t = student(n-1).ppf(1-a)\n",
    "\n",
    "print(T)\n",
    "print(t)\n",
    "\n"
   ]
  }
 ],
 "metadata": {
  "kernelspec": {
   "display_name": "Python 3",
   "language": "python",
   "name": "python3"
  },
  "language_info": {
   "codemirror_mode": {
    "name": "ipython",
    "version": 3
   },
   "file_extension": ".py",
   "mimetype": "text/x-python",
   "name": "python",
   "nbconvert_exporter": "python",
   "pygments_lexer": "ipython3",
   "version": "3.10.12"
  }
 },
 "nbformat": 4,
 "nbformat_minor": 2
}
