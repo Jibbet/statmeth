{
 "cells": [
  {
   "attachments": {},
   "cell_type": "markdown",
   "metadata": {},
   "source": [
    "# Discovery of the Higgs Boson\n",
    "____________________"
   ]
  },
  {
   "cell_type": "code",
   "execution_count": 1,
   "metadata": {},
   "outputs": [],
   "source": [
    "# Imports\n",
    "\n",
    "import scipy \n",
    "import scipy.stats\n",
    "import numpy as np\n",
    "import matplotlib.pyplot as plt\n",
    "\n",
    "# plot preset\n",
    "FONTSIZE = 11\n",
    "DPI = 150\n",
    "X_SIZE = 6\n",
    "Y_SIZE = 4\n",
    "\n",
    "plt.style.use('seaborn')\n",
    "plt.rcParams['font.size'] = FONTSIZE\n",
    "plt.rcParams['xtick.labelsize'] = FONTSIZE\n",
    "plt.rcParams['ytick.labelsize'] = FONTSIZE\n",
    "plt.rcParams['legend.fontsize'] = FONTSIZE\n",
    "plt.rcParams['axes.titlesize'] = FONTSIZE\n",
    "plt.rcParams['axes.labelsize'] = FONTSIZE\n",
    "plt.rcParams['figure.autolayout'] = True\n",
    "plt.rcParams['figure.dpi'] = 150\n",
    "plt.rcParams['lines.linewidth'] = 1.5\n",
    "plt.rcParams['figure.figsize'] = (X_SIZE, Y_SIZE)\n"
   ]
  },
  {
   "cell_type": "markdown",
   "metadata": {},
   "source": [
    "## Exercise 6.4\n",
    "_______"
   ]
  },
  {
   "attachments": {},
   "cell_type": "markdown",
   "metadata": {},
   "source": [
    "We start by simulating the data for the Higgs experiment, this is based on the true measured data by the ATLAS and CMS experiments which we only have available as binned data.\n",
    "The simulation uses a *seed* to ensure that we can compare our results at the end of the exercise. However, you can give it a try without the seed and see how this changes the outcome!"
   ]
  },
  {
   "cell_type": "code",
   "execution_count": null,
   "metadata": {},
   "outputs": [],
   "source": [
    "lambda_           = 1/35. #Decay constant of exponential background\n",
    "x0                = 105 # we shift the x-variable for simpler handling\n",
    "gaussloc          = 125. - x0 #125GeV = Mass of the Higgs boson\n",
    "gausscale         = 2. #standard deviation of the Higgs events\n",
    "nbg               = 30000 #number of background events\n",
    "ratio_higgs_to_bg = 200. / 30000 #ratio of number of Higgs and background events \n",
    "nhiggs            = int(ratio_higgs_to_bg * nbg) #number of Higgs events\n",
    "ntotal            = nbg + nhiggs \n",
    "\n",
    "\n",
    "## Do simulation\n",
    "seed = 4242\n",
    "expon_randGen = scipy.stats.expon\n",
    "expon_randGen.random_state=np.random.Generator(np.random.PCG64(seed))\n",
    "norm_randGen = scipy.stats.norm\n",
    "norm_randGen.random_state=np.random.Generator(np.random.PCG64(seed))\n",
    "sim_data   = expon_randGen.rvs ( scale=1/lambda_, size= nbg ) \n",
    "gauss = norm_randGen.rvs ( loc=gaussloc, scale=gausscale, size=nhiggs ) \n",
    "sim_data   = np.append ( sim_data, gauss )\n",
    "print(ntotal, \" events simulated. mu =\",nhiggs / ntotal)"
   ]
  },
  {
   "cell_type": "code",
   "execution_count": null,
   "metadata": {},
   "outputs": [],
   "source": [
    "# Plot it (Note: Nothing to add in this cell)\n",
    "\n",
    "## Parameters\n",
    "binw  = 1.0 # bin width in GeV\n",
    "xmax  = 155 # maximal m_yy to draw\n",
    "nbins = int((xmax -x0) / binw)\n",
    "\n",
    "## Plot it (do not forget to shift by x0)\n",
    "plt.hist(sim_data+x0,bins=nbins,range=(x0,xmax))\n",
    "plt.xlabel(\"Mass double gammas [GeV]\")\n",
    "plt.ylabel(\"counts\")"
   ]
  },
  {
   "cell_type": "markdown",
   "metadata": {},
   "source": [
    "In the next step you should find the correct distribution/density function and the *negative log-likelihood function* such that you can later fit the data. The input of your function should be the data points as an array (make sure your function can handle an array as an input!) as a first argument and the parameters you want to fit as a second argument."
   ]
  },
  {
   "cell_type": "code",
   "execution_count": null,
   "metadata": {},
   "outputs": [],
   "source": [
    "# Density function\n",
    "\n",
    "## pars[0] = decay constant (lambda) of exponential bg, pars[1] = mu (see exercise sheet, this is NOT the mean position of the peak)\n",
    "\n",
    "def density(pars,x):\n",
    "    \n",
    "    # TODO: "
   ]
  },
  {
   "cell_type": "code",
   "execution_count": null,
   "metadata": {},
   "outputs": [],
   "source": [
    "# Likelihood\n",
    "\n",
    "## Negative log-likelihood (bg + Higgs)\n",
    "### pars[0] = decay constant (lambda) of exponential bg, pars[1] = mu (see exercise sheet, this is NOT the mean position of the peak)\n",
    "\n",
    "def negloglik(pars,x):\n",
    "\n",
    "  # First some catches for unphysical (aka nonsense parameter values)\n",
    "  # If the minimzier chooses such a value we sim_dataurn a high number / a high penalty \n",
    "  if pars[0] <= 0:\n",
    "    return 1e10\n",
    "  if pars[1] <0: \n",
    "    return 1e10\n",
    "  if pars[1] >1.0:\n",
    "    return 1e10\n",
    "\n",
    "  # TODO: write the rest of your negative log-likelihood function"
   ]
  },
  {
   "cell_type": "markdown",
   "metadata": {},
   "source": [
    "Now you can minimize your function to find the correct fit. Plot your result as the histogram together with the fit, think about the right normalisation of the fit!"
   ]
  },
  {
   "cell_type": "code",
   "execution_count": null,
   "metadata": {},
   "outputs": [],
   "source": [
    "# Minimize for the fit (Note: Nothing to add in this cell)\n",
    "print(\" --- Best fit        ---\")\n",
    "startpars = [0.05, 0.5] # start values for decay constant lambda and mu (see excercise sheet)\n",
    "minresult_bestfit = scipy.optimize.minimize(negloglik, startpars, args = sim_data, method='BFGS')\n",
    "print(minresult_bestfit)\n",
    "\n",
    "# Note: You may ignore a warning like \"Desired error not achieved [...]\""
   ]
  },
  {
   "cell_type": "code",
   "execution_count": null,
   "metadata": {},
   "outputs": [],
   "source": [
    "## Plot it (do not forget to shift by x0)\n",
    "# TODO: find the right function for plotting the fit with the histogram\n",
    "x_fit = \n",
    "y_fit = \n",
    "\n",
    "plt.hist(sim_data+x0,bins=nbins,range=(x0,xmax))\n",
    "plt.plot(x_fit+x0,y_fit,label=\"Best fit\")\n",
    "plt.xlabel(\"Mass double gammas [GeV]\")\n",
    "plt.ylabel(\"counts\")\n",
    "plt.legend()"
   ]
  },
  {
   "cell_type": "markdown",
   "metadata": {},
   "source": [
    "## Excercise 6.5\n",
    "_______________"
   ]
  },
  {
   "cell_type": "markdown",
   "metadata": {},
   "source": [
    "Find the correct likelihood function for the null hypothesis (may reuse something from 6.4).\n",
    "Then do the Fit."
   ]
  },
  {
   "cell_type": "code",
   "execution_count": null,
   "metadata": {},
   "outputs": [],
   "source": [
    "def negloglik_null(par,x):\n",
    "    # TODO    "
   ]
  },
  {
   "cell_type": "code",
   "execution_count": null,
   "metadata": {},
   "outputs": [],
   "source": [
    "print(\" --- Null hypothesis ---\")\n",
    "minresult_null = scipy.optimize.minimize(negloglik_null, startpars[0], args = sim_data, method='BFGS')\n",
    "print(minresult_null)\n",
    "\n",
    "# Note: You may ignore a warning like \"Desired error not achieved [...]\""
   ]
  },
  {
   "attachments": {},
   "cell_type": "markdown",
   "metadata": {},
   "source": [
    "Now plot again the data together with your best fit for the signal and the Null hypothesis"
   ]
  },
  {
   "cell_type": "code",
   "execution_count": null,
   "metadata": {},
   "outputs": [],
   "source": [
    "# Plot again (data + null hypothese + best fit)\n",
    "\n",
    "# TODO: find the right function for plotting the Null hypothesis fit with the histogram\n",
    "x_fit_null = \n",
    "y_fit_null = \n",
    "\n",
    "plt.hist(sim_data+x0,bins=nbins,range=(x0,xmax))\n",
    "plt.plot(x_fit+x0,y_fit,label=\"Best fit signal\")\n",
    "plt.plot(x_fit_null+x0,y_fit_null+x0,label=\"Best fit Null Hypothesis\")\n",
    "plt.xlabel(\"Mass double gammas [GeV]\")\n",
    "plt.ylabel(\"counts\")\n",
    "plt.legend()"
   ]
  },
  {
   "attachments": {},
   "cell_type": "markdown",
   "metadata": {},
   "source": [
    "### Significance\n",
    "\n",
    "To calculate the significance, we use [Wilk's Theorem](https://en.wikipedia.org/wiki/Wilks%27_theorem), which states that the test statistic\n",
    "\n",
    "$$D = -\\ln(\\Lambda) = -2\\ln\\left(\\frac{\\text{Likelihood of the null hypothesis}}{\\text{Likelihood of the alternative hypothesis}}\\right)=-2\\left(\\ln(\\text{Likelihood of the null hypothesis})-\\ln(\\text{Likelihood of the alternative hypothesis})\\right)$$\n",
    "\n",
    "approximately follows a $\\chi^2$ distribution. The degrees of freedom of the $\\chi^2$ distribution are given by the difference in dimensionality between the alternative and null hypotheses (i.e., the size of the free parameter space). In this case, the null hypothesis has one degree of freedom $\\lambda$, and the alternative hypothesis has two degrees of freedom $\\lambda$ and $\\mu$ - so one degree of freedom.\n",
    "\n",
    "So, first, we calculate the test statistic, i.e., the difference of the values of the two fits (Note: we use the negative log-likelihood so be careful with the signs):\n",
    "\n"
   ]
  },
  {
   "cell_type": "code",
   "execution_count": null,
   "metadata": {},
   "outputs": [],
   "source": [
    "#TODO calculate and print the test statistic D\n",
    "D = \n",
    "print(D)"
   ]
  },
  {
   "attachments": {},
   "cell_type": "markdown",
   "metadata": {},
   "source": [
    "We can now examine where this value lies in a $\\chi^2$ distribution with one degree of freedom (DOF) and determine the p-value (significance):"
   ]
  },
  {
   "cell_type": "code",
   "execution_count": null,
   "metadata": {},
   "outputs": [],
   "source": [
    "p_value = # TODO: calculate this, use scipy.stats.chi2 and choose the correct function\n",
    "\n",
    "x_array = np.linspace(3,15,500)\n",
    "x_fill = np.linspace(D,15,300)\n",
    "y_array = scipy.stats.chi2.pdf(x_array, df=1)\n",
    "plt.plot(x_array,y_array,label=r'$\\chi^2$ with 1 DOF')\n",
    "plt.axvline(D, ls = '--', linewidth='1',label='D')\n",
    "plt.fill_between(x_fill,np.zeros_like(x_fill),scipy.stats.chi2.pdf(x_fill, df=1),color = 'skyblue',alpha=0.8, label='p = {:1.5f}'.format(p_value))\n",
    "plt.xlim(3,15)\n",
    "plt.ylim(-0.001,0.01)\n",
    "plt.xlabel('test statistic D')\n",
    "plt.ylabel(r'$\\chi^2(D)$')\n",
    "plt.legend()"
   ]
  },
  {
   "attachments": {},
   "cell_type": "markdown",
   "metadata": {},
   "source": [
    "In particle physics, the significance level is often expressed as a multiple of the standard normal distribution's deviation. From the p-value, the significance Z is obtained through the inverse cumulative distribution function (ppf in Python):\n",
    "\n",
    "$$Z=\\Phi^{-1}(1-p)$$\n"
   ]
  },
  {
   "cell_type": "code",
   "execution_count": null,
   "metadata": {},
   "outputs": [],
   "source": [
    "def sgnf(p):\n",
    "    return scipy.stats.norm.ppf(1-p, loc=0, scale=1)\n",
    "\n",
    "x_array = np.linspace(-5,5,500)\n",
    "x_fill = np.linspace(sgnf(p_value),5,300)\n",
    "y_array = scipy.stats.norm.pdf(x_array)\n",
    "plt.plot(x_array,y_array)\n",
    "plt.axvline(sgnf(p_value), ls = '--', linewidth='1',label=r'{:1.3f} $\\sigma$'.format(sgnf(p_value)))\n",
    "plt.fill_between(x_fill,np.zeros_like(x_fill),scipy.stats.norm.pdf(x_fill),color = 'skyblue',alpha=0.8, label='p = {:f}'.format(p_value))\n",
    "plt.xlabel(r'$x$')\n",
    "plt.ylabel(r'Norm$(x;\\mu=0,\\sigma=1)$')\n",
    "plt.legend()\n",
    "print(\"Significance =\",sgnf(p_value),\"sigma\")"
   ]
  },
  {
   "attachments": {},
   "cell_type": "markdown",
   "metadata": {},
   "source": [
    "There is also an approximation for the significance in sigma for the signal test with Log-Likelihood ratio, described in this [paper](https://link.springer.com/content/pdf/10.1140/epjc/s10052-011-1554-0.pdf?pdf=button). According to this approximation, the significance is found quite simply with:\n",
    "\n",
    "$$Z = \\sqrt{D}$$"
   ]
  },
  {
   "cell_type": "code",
   "execution_count": null,
   "metadata": {},
   "outputs": [],
   "source": [
    "# Calculate the significance using the approximation (Note: Nothing to add in this cell)\n",
    "sig = np.sqrt(D) \n",
    "print(\"Significance approximation =\",sig,\"sigma\")\n"
   ]
  }
 ],
 "metadata": {
  "kernelspec": {
   "display_name": "base",
   "language": "python",
   "name": "python3"
  },
  "language_info": {
   "codemirror_mode": {
    "name": "ipython",
    "version": 3
   },
   "file_extension": ".py",
   "mimetype": "text/x-python",
   "name": "python",
   "nbconvert_exporter": "python",
   "pygments_lexer": "ipython3",
   "version": "3.8.5"
  },
  "vscode": {
   "interpreter": {
    "hash": "9beab74f5023144e28ef7b1475c226b38d7545972a79393e3fc113252fce1d16"
   }
  }
 },
 "nbformat": 4,
 "nbformat_minor": 4
}
