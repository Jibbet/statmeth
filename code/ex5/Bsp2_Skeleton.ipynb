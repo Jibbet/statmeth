{
 "cells": [
  {
   "cell_type": "markdown",
   "metadata": {},
   "source": [
    "# Exercise 5.3\n",
    "_______"
   ]
  },
  {
   "cell_type": "code",
   "execution_count": 1,
   "metadata": {},
   "outputs": [],
   "source": [
    "import numpy as np\n",
    "import scipy.stats, scipy.special\n",
    "from matplotlib import pyplot as plt\n",
    "\n",
    "# plot preset\n",
    "FONTSIZE = 12\n",
    "plt.rcParams['font.size'] = FONTSIZE\n",
    "plt.rcParams['xtick.labelsize'] = FONTSIZE\n",
    "plt.rcParams['ytick.labelsize'] = FONTSIZE\n",
    "plt.rcParams['legend.fontsize'] = FONTSIZE\n",
    "plt.rcParams['axes.titlesize'] = FONTSIZE\n",
    "plt.rcParams['axes.labelsize'] = FONTSIZE\n",
    "plt.rcParams['figure.autolayout'] = True\n",
    "plt.rcParams['figure.dpi'] = 100\n",
    "plt.rcParams['lines.linewidth'] = 1.5\n",
    "plt.rcParams['figure.figsize'] = (8, 5)\n"
   ]
  },
  {
   "cell_type": "markdown",
   "metadata": {},
   "source": [
    "We draw n=120 elements from an exponential distribution where $\\tau$ itself is drawn from a Gamma distribution with $a=4, b=2$ and repeat this $N=10000$ times. In b) we then check for how many of the $N$ samples $\\tau$ actually lies within the $90$% confidence intervall (see slide 359).\n",
    "In order to not have to save all the samples, it makes sense to calculate the necessary information for exercise b) and c) already when we loop over the sample calculation!\n",
    "Remeber that in the lexture the Gamma distribution was defined as and compare that this is consistent with your implementation:\n",
    "$$Ga(x;a,b)=\\frac{x^{a-1}e^{-x/b}}{b^a\\Gamma(a)}$$\n"
   ]
  },
  {
   "cell_type": "code",
   "execution_count": 1,
   "metadata": {},
   "outputs": [],
   "source": [
    "# setup \n",
    "N = 10000\n",
    "n = 120\n",
    "a = 4\n",
    "b = 2"
   ]
  },
  {
   "cell_type": "code",
   "execution_count": null,
   "metadata": {},
   "outputs": [],
   "source": [
    "# we can sample the N taus already before drawing the N samples and plot them in a histogram\n",
    "sampled_taus = #TODO \n",
    "\n",
    "plt.hist(sampled_taus,bins=100)\n",
    "plt.xlabel(r'$\\tau$')\n",
    "plt.title(r\"Distribution of $\\tau s$ from $\\Gamma(a=4,b=2)$\")\n",
    "plt.show()"
   ]
  },
  {
   "cell_type": "code",
   "execution_count": null,
   "metadata": {},
   "outputs": [],
   "source": [
    "# now generate the N samples from the exponential distribution from your array of taus and calculate the necessary quantities for b) and c)!\n",
    "\n",
    "taus_in_ci = 0                      # counter for the times where the true tau lies in the 90% confidence interval\n",
    "differences = np.zeros(N)   # difference of the sample mean to the true value of tau\n",
    "\n",
    "for i in range(N):\n",
    "    sample_exp = #TODO: generate the single sample with tau from your array\n",
    "    \n",
    "    mean = np.mean(sample_exp)\n",
    "    differences[i] = mean - sampled_taus[i]\n",
    "    \n",
    "    ciboundaries = #TODO: calculate the boundaries of the 90% CIs\n",
    "    if #TODO: is the true tau in the CI? If yes, increase the counter.\n",
    "        taus_in_ci += 1       \n",
    "        \n",
    "\n",
    "print(\"Number of taus inside confidence interval: \",taus_in_ci, \"(\" , 100 * taus_in_ci / (N), \"%)\" )"
   ]
  },
  {
   "cell_type": "code",
   "execution_count": 3,
   "metadata": {},
   "outputs": [],
   "source": [
    "# Use the differences array from above and choose a graphical presentation to show that the values are symmetrically distributed around 0\n"
   ]
  },
  {
   "cell_type": "code",
   "execution_count": null,
   "metadata": {},
   "outputs": [],
   "source": []
  }
 ],
 "metadata": {
  "kernelspec": {
   "display_name": "Python 3.8.5 ('base')",
   "language": "python",
   "name": "python3"
  },
  "language_info": {
   "codemirror_mode": {
    "name": "ipython",
    "version": 3
   },
   "file_extension": ".py",
   "mimetype": "text/x-python",
   "name": "python",
   "nbconvert_exporter": "python",
   "pygments_lexer": "ipython3",
   "version": "3.8.5"
  },
  "varInspector": {
   "cols": {
    "lenName": 16,
    "lenType": 16,
    "lenVar": 40
   },
   "kernels_config": {
    "python": {
     "delete_cmd_postfix": "",
     "delete_cmd_prefix": "del ",
     "library": "var_list.py",
     "varRefreshCmd": "print(var_dic_list())"
    },
    "r": {
     "delete_cmd_postfix": ") ",
     "delete_cmd_prefix": "rm(",
     "library": "var_list.r",
     "varRefreshCmd": "cat(var_dic_list()) "
    }
   },
   "types_to_exclude": [
    "module",
    "function",
    "builtin_function_or_method",
    "instance",
    "_Feature"
   ],
   "window_display": false
  },
  "vscode": {
   "interpreter": {
    "hash": "9beab74f5023144e28ef7b1475c226b38d7545972a79393e3fc113252fce1d16"
   }
  }
 },
 "nbformat": 4,
 "nbformat_minor": 4
}
