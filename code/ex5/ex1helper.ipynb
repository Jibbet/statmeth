{
 "cells": [
  {
   "cell_type": "code",
   "execution_count": 8,
   "metadata": {},
   "outputs": [
    {
     "name": "stdout",
     "output_type": "stream",
     "text": [
      "0.5336035719734817\n",
      "0.6732350081949368\n"
     ]
    }
   ],
   "source": [
    "from scipy.stats import beta\n",
    "n=200\n",
    "k=121\n",
    "a = 0.05\n",
    "g_1 = beta.ppf(a/2, k, n-k+1)\n",
    "g_2 = beta.ppf(1-a/2, k+1, n-k)\n",
    "print(g_1)\n",
    "print(g_2)"
   ]
  },
  {
   "cell_type": "code",
   "execution_count": 9,
   "metadata": {},
   "outputs": [
    {
     "name": "stdout",
     "output_type": "stream",
     "text": [
      "0.5372487505650265\n",
      "0.6727512494349734\n"
     ]
    }
   ],
   "source": [
    "import numpy as np\n",
    "#bootstrap\n",
    "p = k/n\n",
    "z = 1.96\n",
    "sigma = np.sqrt(p*(1-p)/n)\n",
    "g_1 = p - z*sigma\n",
    "g_2 = p + z*sigma\n",
    "print(g_1)\n",
    "print(g_2)"
   ]
  },
  {
   "cell_type": "code",
   "execution_count": 10,
   "metadata": {},
   "outputs": [
    {
     "name": "stdout",
     "output_type": "stream",
     "text": [
      "0.5357035354437183\n",
      "0.6742964645562817\n"
     ]
    }
   ],
   "source": [
    "#robust\n",
    "sigma = 1/(2*np.sqrt(n))\n",
    "g_1 = p - z*sigma\n",
    "g_2 = p + z*sigma\n",
    "print(g_1)\n",
    "print(g_2)"
   ]
  },
  {
   "cell_type": "code",
   "execution_count": 11,
   "metadata": {},
   "outputs": [
    {
     "name": "stdout",
     "output_type": "stream",
     "text": [
      "0.5455620492603357\n",
      "0.6793262954151378\n"
     ]
    }
   ],
   "source": [
    "#agresti\n",
    "k = k+z**2\n",
    "n = n+z**2\n",
    "p = k/n\n",
    "sigma = np.sqrt(p*(1-p)/n)\n",
    "\n",
    "g_1 = p - z*sigma\n",
    "g_2 = p + z*sigma\n",
    "print(g_1)\n",
    "print(g_2)"
   ]
  }
 ],
 "metadata": {
  "kernelspec": {
   "display_name": "Python 3",
   "language": "python",
   "name": "python3"
  },
  "language_info": {
   "codemirror_mode": {
    "name": "ipython",
    "version": 3
   },
   "file_extension": ".py",
   "mimetype": "text/x-python",
   "name": "python",
   "nbconvert_exporter": "python",
   "pygments_lexer": "ipython3",
   "version": "3.10.12"
  }
 },
 "nbformat": 4,
 "nbformat_minor": 2
}
