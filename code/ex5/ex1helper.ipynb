{
 "cells": [
  {
   "cell_type": "code",
   "execution_count": 2,
   "metadata": {},
   "outputs": [
    {
     "name": "stdout",
     "output_type": "stream",
     "text": [
      "0.5336035719734817\n",
      "0.6732350081949368\n"
     ]
    }
   ],
   "source": [
    "from scipy.stats import beta\n",
    "n=200\n",
    "k=121\n",
    "a = 0.05\n",
    "p_u = beta.ppf(a/2, k, n-k+1)\n",
    "p_o = beta.ppf(1-a/2, k+1, n-k)\n",
    "print(p_u)\n",
    "print(p_o)"
   ]
  },
  {
   "cell_type": "code",
   "execution_count": 7,
   "metadata": {},
   "outputs": [
    {
     "name": "stdout",
     "output_type": "stream",
     "text": [
      "0.5855220416492125\n",
      "0.6244779583507875\n",
      "0.5850778042952618\n",
      "0.6249221957047382\n",
      "0.5853696313854894\n",
      "0.6242975061981105\n"
     ]
    }
   ],
   "source": [
    "import numpy as np\n",
    "#boostrap\n",
    "n = 200\n",
    "k = 121\n",
    "a = 0.05\n",
    "\n",
    "p = 121/200\n",
    "\n",
    "z = 1/np.sqrt(np.pi)*np.e**(-1/2 * a**2)\n",
    "s_boot = np.sqrt(p*(1-p)/n)\n",
    "s_robust = 1/(2*np.sqrt(n))\n",
    "\n",
    "d_boot = z*s_boot\n",
    "d_robust = z*s_robust\n",
    "\n",
    "gBoot_u = p-d_boot\n",
    "gBoot_o = p+d_boot\n",
    "\n",
    "gRob_u = p-d_robust\n",
    "gRob_o = p+d_robust\n",
    "\n",
    "c = z\n",
    "kd = k+c**2/2\n",
    "nd = n+c**2\n",
    "pd = kd/nd\n",
    "s_ac = np.sqrt(pd*(1-pd)/nd)\n",
    "\n",
    "gAc_u = pd - z*s_ac\n",
    "gAc_o = pd +z*s_ac\n",
    "\n",
    "print(gBoot_u)\n",
    "print(gBoot_o)\n",
    "print(gRob_u)\n",
    "print(gRob_o)\n",
    "print(gAc_u)\n",
    "print(gAc_o)\n",
    "\n"
   ]
  }
 ],
 "metadata": {
  "kernelspec": {
   "display_name": "Python 3",
   "language": "python",
   "name": "python3"
  },
  "language_info": {
   "codemirror_mode": {
    "name": "ipython",
    "version": 3
   },
   "file_extension": ".py",
   "mimetype": "text/x-python",
   "name": "python",
   "nbconvert_exporter": "python",
   "pygments_lexer": "ipython3",
   "version": "3.10.12"
  }
 },
 "nbformat": 4,
 "nbformat_minor": 2
}
